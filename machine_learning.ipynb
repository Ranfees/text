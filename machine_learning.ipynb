{
  "nbformat": 4,
  "nbformat_minor": 0,
  "metadata": {
    "colab": {
      "provenance": [],
      "authorship_tag": "ABX9TyO0ax289+AvrH/3bFIuL1WP",
      "include_colab_link": true
    },
    "kernelspec": {
      "name": "python3",
      "display_name": "Python 3"
    },
    "language_info": {
      "name": "python"
    }
  },
  "cells": [
    {
      "cell_type": "markdown",
      "metadata": {
        "id": "view-in-github",
        "colab_type": "text"
      },
      "source": [
        "<a href=\"https://colab.research.google.com/github/Ranfees/text/blob/master/machine_learning.ipynb\" target=\"_parent\"><img src=\"https://colab.research.google.com/assets/colab-badge.svg\" alt=\"Open In Colab\"/></a>"
      ]
    },
    {
      "cell_type": "code",
      "execution_count": null,
      "metadata": {
        "id": "UMeVDTAr_ATi"
      },
      "outputs": [],
      "source": [
        "# Import necessary libraries\n",
        "import numpy as np\n",
        "import matplotlib.pyplot as plt\n",
        "from sklearn.model_selection import\n",
        "train_test_split\n",
        "from sklearn.linear_model import\n",
        "LinearRegression\n",
        "from sklearn.metrics import mean_squared_error,r2_score\n",
        "# sample data: years of experience and Correspondimg Salary\n",
        "# X: Years of experience\n",
        "Y = np.array([1,2,3,4,5,6,7,8,9,10]).reshape(-1,1) # Reshape to make it 2D array for scikit-learn\n",
        "# y:Corressponding salaries (in thousands)\n",
        "Y = np.array([35,40,45,50,55,60,65,70,80,90])\n",
        "# step 1: split the data into training and test sets\n",
        "X_train,X_test,Y_train,Y_test=train_test_split(X,y,test_size=0.2,random_state=42)\n",
        "# step1: Create a Linear Regression model\n",
        "model = LinearRegression()\n",
        "#step 3:Train the model (fit it to the training data)\n",
        "model.fit(X_train,Y_train)"
      ]
    }
  ]
}